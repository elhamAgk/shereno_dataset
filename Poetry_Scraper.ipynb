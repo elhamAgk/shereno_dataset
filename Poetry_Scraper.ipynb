{
 "cells": [
  {
   "cell_type": "markdown",
   "metadata": {
    "id": "ml4vtKwRaWO-"
   },
   "source": [
    "# 🚀 Imports and Configurations"
   ]
  },
  {
   "cell_type": "markdown",
   "metadata": {
    "id": "5AeqdPabbDT1"
   },
   "source": [
    "## Import libraries"
   ]
  },
  {
   "cell_type": "code",
   "execution_count": 1,
   "metadata": {
    "id": "MJcFTw6PZ8d1"
   },
   "outputs": [],
   "source": [
    "from bs4 import BeautifulSoup as soup  # HTML data structure\n",
    "from urllib.request import urlopen as uReq  # Web client\n",
    "import pandas as pd\n",
    "import re\n",
    "from tqdm import tqdm"
   ]
  },
  {
   "cell_type": "markdown",
   "metadata": {
    "id": "gpA9mo9RbAz0"
   },
   "source": [
    "## Configurations"
   ]
  },
  {
   "cell_type": "code",
   "execution_count": 2,
   "metadata": {
    "id": "jb_PTM-YaVKl"
   },
   "outputs": [],
   "source": [
    "configs = dict(\n",
    "    HOME_URL = \"http://shereno.com/\",\n",
    "    FILE_NAME = \"poetry_dataset.csv\"\n",
    ")"
   ]
  },
  {
   "cell_type": "markdown",
   "metadata": {
    "id": "dc3erxGlgj2r"
   },
   "source": [
    "# 🍲 Preparing the Soup"
   ]
  },
  {
   "cell_type": "code",
   "execution_count": 3,
   "metadata": {
    "id": "RKeUM3nRa_ul"
   },
   "outputs": [],
   "source": [
    "def url_request(url):\n",
    "    uClient = uReq(url)\n",
    "    page_soup = soup(uClient.read(), \"html.parser\")\n",
    "    uClient.close()\n",
    "    return page_soup"
   ]
  },
  {
   "cell_type": "code",
   "execution_count": 19,
   "metadata": {
    "id": "uTNZmK01hGCE"
   },
   "outputs": [],
   "source": [
    "def main_page(url):\n",
    "    df = pd.DataFrame(columns=['Poem','Poet','Title','Book'])\n",
    "    page_soup = url_request(url)\n",
    "    containers = page_soup.findAll(\"ul\", {\"class\": \"side_list3 over\"})[1]\n",
    "    for a in containers.findAll(\"a\"):\n",
    "        poet = a.text\n",
    "        url = re.findall(r'\\d+', a['href'][1:])[0]\n",
    "        print(f'Poet:{poet}')\n",
    "        df = poet_page(url, poet, df)\n",
    "    return df"
   ]
  },
  {
   "cell_type": "code",
   "execution_count": 25,
   "metadata": {
    "id": "xPCmPlvihI7T"
   },
   "outputs": [],
   "source": [
    "def poet_page(url, poet, df):\n",
    "    page_soup = url_request(configs['HOME_URL'] + url)\n",
    "    containers = page_soup.findAll(\"table\")[0]\n",
    "    links = containers.findAll(\"a\")\n",
    "    for index, link in enumerate(links):\n",
    "        book = link.text\n",
    "        print(f'Book:{book} ({index+1} of {len(links)})')\n",
    "        url = link['href'][2:]\n",
    "        df = poetry_notebook(url, poet, book, df)\n",
    "    return df"
   ]
  },
  {
   "cell_type": "code",
   "execution_count": 26,
   "metadata": {
    "id": "Msgw7OYnhLF8"
   },
   "outputs": [],
   "source": [
    "def poetry_notebook(url, poet, book, df):\n",
    "    page_soup = url_request(configs['HOME_URL'] + url)\n",
    "    containers = page_soup.findAll(\"table\")[0]\n",
    "    for container in tqdm(containers.findAll(\"a\")):\n",
    "        title = container.text\n",
    "        url = container['href'][2:]\n",
    "        new_row = poetry_page(url, poet, book, title)\n",
    "        df = df.append(new_row, ignore_index=True)\n",
    "    return df"
   ]
  },
  {
   "cell_type": "code",
   "execution_count": 27,
   "metadata": {
    "id": "3FItnYQrhPMj"
   },
   "outputs": [],
   "source": [
    "def poetry_page(url, poet, book, title):\n",
    "    page_soup = url_request(configs['HOME_URL'] + url)\n",
    "    body = page_soup.findAll(\"div\", {\"id\": \"areap\"})[0]\n",
    "    poem = body.span.text\n",
    "    new_row = {\n",
    "        'Poet' :  poet,\n",
    "        'Poem' :  poem,\n",
    "        'Title':  title,\n",
    "        'Book' :  book\n",
    "    }\n",
    "    return new_row"
   ]
  },
  {
   "cell_type": "markdown",
   "metadata": {
    "id": "F0p4jwoPyG_t"
   },
   "source": [
    "# 🥣 Serving the Soup"
   ]
  },
  {
   "cell_type": "code",
   "execution_count": 28,
   "metadata": {
    "colab": {
     "base_uri": "https://localhost:8080/"
    },
    "id": "bwr9LmZhj9Uh",
    "outputId": "e44a88de-9608-44b8-cecf-fcf31bd95898"
   },
   "outputs": [
    {
     "name": "stdout",
     "output_type": "stream",
     "text": [
      "Poet:نیما یوشیج\n",
      "Book:مجموعه اشعار (1 of 1)\n"
     ]
    },
    {
     "name": "stderr",
     "output_type": "stream",
     "text": [
      "100%|██████████| 38/38 [00:23<00:00,  1.59it/s]\n"
     ]
    }
   ],
   "source": [
    "data = main_page(configs['HOME_URL'])"
   ]
  },
  {
   "cell_type": "markdown",
   "metadata": {
    "id": "A0bkXog9yMPy"
   },
   "source": [
    "# 💾 Export Data"
   ]
  },
  {
   "cell_type": "code",
   "execution_count": 33,
   "metadata": {
    "id": "lfDepwDUt4rE"
   },
   "outputs": [],
   "source": [
    "data.to_csv('shereno.csv', \n",
    "            index=False,\n",
    "            encoding = 'utf-8')"
   ]
  }
 ],
 "metadata": {
  "colab": {
   "collapsed_sections": [],
   "name": "Poetry Scraper.ipynb",
   "provenance": []
  },
  "kernelspec": {
   "display_name": "Python 3",
   "language": "python",
   "name": "python3"
  },
  "language_info": {
   "codemirror_mode": {
    "name": "ipython",
    "version": 3
   },
   "file_extension": ".py",
   "mimetype": "text/x-python",
   "name": "python",
   "nbconvert_exporter": "python",
   "pygments_lexer": "ipython3",
   "version": "3.8.3"
  }
 },
 "nbformat": 4,
 "nbformat_minor": 1
}
